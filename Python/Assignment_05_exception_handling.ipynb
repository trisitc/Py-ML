{
 "cells": [
  {
   "cell_type": "markdown",
   "metadata": {},
   "source": [
    "## Assignment 5 Exception Handling\n",
    "#### Trisit Kumar Chatterjee"
   ]
  },
  {
   "cell_type": "markdown",
   "metadata": {},
   "source": [
    "### 1. Write a function to compute 5/0 and use try/except to catch the exceptions."
   ]
  },
  {
   "cell_type": "code",
   "execution_count": 6,
   "metadata": {},
   "outputs": [],
   "source": [
    "def div_exception(a,b):\n",
    "    try:\n",
    "        c =  a/b\n",
    "        print(\"The result of the division is : \",c)\n",
    "    except Exception as e:\n",
    "        print(\"Error in code is : \",e)"
   ]
  },
  {
   "cell_type": "code",
   "execution_count": 7,
   "metadata": {},
   "outputs": [
    {
     "output_type": "stream",
     "name": "stdout",
     "text": [
      "Error in code is :  division by zero\n"
     ]
    }
   ],
   "source": [
    "div_exception(5,0) # Exception should be thrown"
   ]
  },
  {
   "cell_type": "code",
   "execution_count": 8,
   "metadata": {},
   "outputs": [
    {
     "output_type": "stream",
     "name": "stdout",
     "text": [
      "The result of the division is :  5.0\n"
     ]
    }
   ],
   "source": [
    "div_exception(5,1)  # Exception should NOT be thrown"
   ]
  },
  {
   "cell_type": "markdown",
   "metadata": {},
   "source": [
    "### 2. Implement a Python program to generate all sentences where subject is in \n",
    "\\[\"Americans\", \"Indians\"] and verb is in \\[\"Play\", \"watch\"] and the object is in \n",
    "\\[\"Baseball\",\"cricket\"].\n",
    "\n",
    "\n",
    "\n",
    "**Hint: Subject,Verb and Object should be declared in the program as shown below.**\n",
    "\n",
    "\n",
    "subjects=\\[\"Americans \",\"Indians\"]\n",
    "\n",
    "verbs=\\[\"play\",\"watch\"]\n",
    "\n",
    "objects=\\[\"Baseball\",\"Cricket\"]\n",
    "\n",
    "\n",
    "\n",
    "\n",
    "**Output should come as below:**\n",
    "\n",
    "Americans play Baseball.\n",
    "\n",
    "Americans play Cricket.\n",
    "\n",
    "Americans watch Baseball.\n",
    "\n",
    "Americans watch Cricket.\n",
    "\n",
    "Indians play Baseball.\n",
    "\n",
    "Indians play Cricket.\n",
    "\n",
    "Indians watch Baseball.\n",
    "\n",
    "Indians watch Cricket."
   ]
  },
  {
   "cell_type": "code",
   "execution_count": 10,
   "metadata": {},
   "outputs": [
    {
     "output_type": "stream",
     "name": "stdout",
     "text": [
      "Output:\nAmericans play Baseball.\nAmericans play Cricket.\nAmericans watch Baseball.\nAmericans watch Cricket.\nIndians play Baseball.\nIndians play Cricket.\nIndians watch Baseball.\nIndians watch Cricket.\n"
     ]
    }
   ],
   "source": [
    "subject=[\"Americans\",\"Indians\"]\n",
    "verb=[\"play\",\"watch\"]\n",
    "objects=[\"Baseball\",\"Cricket\"]\n",
    "\n",
    "# List Comprehension\n",
    "Syntax = [(Sub+' '+vrb+' '+Objct+\".\") for Sub in subject for vrb in verb for Objct in objects]\n",
    "\n",
    "#for Loop for Iteration\n",
    "print(\"Output:\")\n",
    "\n",
    "for syn in Syntax:    \n",
    "    print(syn)"
   ]
  },
  {
   "cell_type": "code",
   "execution_count": null,
   "metadata": {},
   "outputs": [],
   "source": []
  }
 ],
 "metadata": {
  "kernelspec": {
   "name": "python3",
   "display_name": "Python 3.8.10 64-bit"
  },
  "language_info": {
   "codemirror_mode": {
    "name": "ipython",
    "version": 3
   },
   "file_extension": ".py",
   "mimetype": "text/x-python",
   "name": "python",
   "nbconvert_exporter": "python",
   "pygments_lexer": "ipython3",
   "version": "3.8.10"
  },
  "interpreter": {
   "hash": "31f2aee4e71d21fbe5cf8b01ff0e069b9275f58929596ceb00d14d90e3e16cd6"
  }
 },
 "nbformat": 4,
 "nbformat_minor": 4
}