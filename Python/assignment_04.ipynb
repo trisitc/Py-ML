{
 "cells": [
  {
   "cell_type": "markdown",
   "metadata": {},
   "source": [
    "## Python Assignment 4\n",
    "#### Trisit Kumar Chatterjee"
   ]
  },
  {
   "cell_type": "markdown",
   "metadata": {},
   "source": [
    "### 1.1 Write a Python Program(with class concepts) to find the area of the triangle using the below formula. \n",
    "\n",
    "area = (s*(s-a)*(s-b)*(s-c)) ** 0.5 \n",
    "\n",
    "Function to take the length of the sides of triangle from user should be defined in the parent class and function to calculate the area should be defined in subclass."
   ]
  },
  {
   "cell_type": "code",
   "execution_count": 7,
   "metadata": {},
   "outputs": [],
   "source": [
    "class A:\n",
    "    \"\"\"\n",
    "    Parent class takes length of the sides of the triangle from user\n",
    "    \"\"\"\n",
    "    def __init__(self):\n",
    "        self.a = float(input(\"enter side 1 of the triangle in cm : \"))\n",
    "        self.b = float(input(\"enter side 2 of the triangle in cm : \"))\n",
    "        self.c = float(input(\"enter side 3 of the triangle in cm : \"))\n",
    "\n",
    "class B(A):\n",
    "    \"\"\"\n",
    "    Child class calculates the area of the triangle\n",
    "    \"\"\"\n",
    "    def area_of_triangle(self):\n",
    "        s = (self.a + self.b + self.c)/2\n",
    "        area = (s*(s-self.a)*(s-self.b)*(s-self.c)) ** 0.5\n",
    "        return area"
   ]
  },
  {
   "cell_type": "code",
   "execution_count": 11,
   "metadata": {},
   "outputs": [
    {
     "output_type": "stream",
     "name": "stdout",
     "text": [
      "The area of the triangle with sides 6.0 cm, 8.0 cm and 10.0 cm is : \n 24.0 cm²\n"
     ]
    }
   ],
   "source": [
    "triangle_1 = B()\n",
    "print(f\"The area of the triangle with sides {triangle_1.a} cm, {triangle_1.b} cm and {triangle_1.c} cm is : \\n {triangle_1.area_of_triangle()} cm\\u00b2\")"
   ]
  },
  {
   "cell_type": "markdown",
   "metadata": {},
   "source": [
    "### 1.2 Write a function filter_long_words() that takes a list of words and an integer n and returns the list of words that are longer than n."
   ]
  },
  {
   "cell_type": "code",
   "execution_count": 12,
   "metadata": {},
   "outputs": [],
   "source": [
    "def filter_long_words(words,n):\n",
    "    \"\"\"\n",
    "    Filters words longer than length n and returns those words\n",
    "    \"\"\"\n",
    "    lst = []\n",
    "    for i in words:\n",
    "        if len(i)>n:\n",
    "            lst.append(i)\n",
    "    return lst"
   ]
  },
  {
   "cell_type": "code",
   "execution_count": 22,
   "metadata": {},
   "outputs": [
    {
     "output_type": "stream",
     "name": "stdout",
     "text": [
      "long words are : \n international russia america\n"
     ]
    }
   ],
   "source": [
    "lst1 = ['international','india','nepal','russia','america']\n",
    "n = 5\n",
    "words = filter_long_words(lst1,n) # Filter words longer than length 5\n",
    "print(\"long words are : \\n\",*words)"
   ]
  },
  {
   "cell_type": "markdown",
   "metadata": {},
   "source": [
    "### 2.1 Write a Python program using function concept that maps list of words into a list of integers representing the lengths of the corresponding words. \n",
    "\n",
    "##### Hint: If a list \\[ ab,cde,erty ] is passed on to the python function output should come as \\[2,3,4] \n",
    "\n",
    "Here 2,3 and 4 are the lengths of the words in the list."
   ]
  },
  {
   "cell_type": "code",
   "execution_count": 23,
   "metadata": {},
   "outputs": [],
   "source": [
    "def length(lst):\n",
    "    return len(lst)"
   ]
  },
  {
   "cell_type": "code",
   "execution_count": 27,
   "metadata": {},
   "outputs": [
    {
     "output_type": "stream",
     "name": "stdout",
     "text": [
      "['ab', 'cde', 'erty', 'india', 'qwerty', 'liberty'] \n [2, 3, 4, 5, 6, 7]\n"
     ]
    }
   ],
   "source": [
    "l = ['ab','cde','erty','india','qwerty','liberty']\n",
    "c = list(map(length,l))\n",
    "print(l,\"\\n\",c)"
   ]
  },
  {
   "cell_type": "markdown",
   "metadata": {},
   "source": [
    "### 2.2 Write a Python function which takes a character (i.e. a string of length 1) and returns True if it is a vowel, False otherwise."
   ]
  },
  {
   "cell_type": "code",
   "execution_count": 33,
   "metadata": {},
   "outputs": [],
   "source": [
    "def vowel(word):\n",
    "    print(\"Character enetered was : \", word)\n",
    "    if (word == 'a' or word == 'e' or word == 'i' or word == 'o' or word == 'u' ):\n",
    "        return True\n",
    "    else:\n",
    "        return False"
   ]
  },
  {
   "cell_type": "code",
   "execution_count": 35,
   "metadata": {},
   "outputs": [
    {
     "output_type": "stream",
     "name": "stdout",
     "text": [
      "Character enetered was :  m\nFalse\n"
     ]
    }
   ],
   "source": [
    "vowel_check = vowel(input(\"enter a character : \"))\n",
    "print(vowel_check)"
   ]
  },
  {
   "cell_type": "code",
   "execution_count": null,
   "metadata": {},
   "outputs": [],
   "source": []
  }
 ],
 "metadata": {
  "kernelspec": {
   "name": "python3",
   "display_name": "Python 3.8.3 64-bit ('base': conda)"
  },
  "language_info": {
   "codemirror_mode": {
    "name": "ipython",
    "version": 3
   },
   "file_extension": ".py",
   "mimetype": "text/x-python",
   "name": "python",
   "nbconvert_exporter": "python",
   "pygments_lexer": "ipython3",
   "version": "3.8.3"
  },
  "interpreter": {
   "hash": "00604b63329d013385ee6baf0094d9b925251d79ae2e3d1e98b8dbe153502f01"
  }
 },
 "nbformat": 4,
 "nbformat_minor": 4
}