{
  "nbformat": 4,
  "nbformat_minor": 0,
  "metadata": {
    "colab": {
      "name": "Python Assignment 2.ipynb",
      "provenance": [],
      "authorship_tag": "ABX9TyOmJ/pRBuiLSnpNkAlxC2mN"
    },
    "kernelspec": {
      "name": "python3",
      "display_name": "Python 3"
    },
    "language_info": {
      "name": "python"
    }
  },
  "cells": [
    {
      "cell_type": "markdown",
      "metadata": {
        "id": "pav2J2KHYlmG"
      },
      "source": [
        "## Python Assignment 2 - _by Trisit Kumar Chatterjee_"
      ]
    },
    {
      "cell_type": "markdown",
      "metadata": {
        "id": "VX44wMYLwgtR"
      },
      "source": [
        "#### Problem 1 - Create the below pattern using nested for loop in Python."
      ]
    },
    {
      "cell_type": "code",
      "metadata": {
        "colab": {
          "base_uri": "https://localhost:8080/"
        },
        "id": "oZB90nAoT6DL",
        "outputId": "9d99bb02-d039-445a-93c5-c848ff74b1ba"
      },
      "source": [
        "def pyramid(p):\n",
        "   for m in range(0, p):\n",
        "      for n in range(0, m+1):\n",
        "         print(\"* \",end=\"\")\n",
        "      print(\"\\r\")\n",
        "def anti_pyramid(p):\n",
        "   for m in range(p, 0,-1):\n",
        "      for n in range(m-1, 0,-1):\n",
        "         print(\"* \",end=\"\")\n",
        "      print(\"\\r\")\n",
        "p = 5\n",
        "pyramid(p)\n",
        "anti_pyramid(p)"
      ],
      "execution_count": 8,
      "outputs": [
        {
          "output_type": "stream",
          "text": [
            "* \r\n",
            "* * \r\n",
            "* * * \r\n",
            "* * * * \r\n",
            "* * * * * \r\n",
            "* * * * \r\n",
            "* * * \r\n",
            "* * \r\n",
            "* \r\n",
            "\r\n"
          ],
          "name": "stdout"
        }
      ]
    },
    {
      "cell_type": "markdown",
      "metadata": {
        "id": "MFWKE3YTwfTq"
      },
      "source": [
        "#### Problem 2 - Write a Python program to reverse a word after accepting the input from the user."
      ]
    },
    {
      "cell_type": "code",
      "metadata": {
        "colab": {
          "base_uri": "https://localhost:8080/"
        },
        "id": "QD8KUxXcT89x",
        "outputId": "5fbf43b7-3d90-466c-d64a-9c0ac11acce3"
      },
      "source": [
        "# Take a word as input\n",
        "word = input('Enter any single word \\n')\n",
        "# word received\n",
        "print(f\"Word received is \\n {word}\")\n",
        "#Reversal of all characters\n",
        "print(f\"Reversed word is \\n {word[::-1]}\")\n"
      ],
      "execution_count": 11,
      "outputs": [
        {
          "output_type": "stream",
          "text": [
            "Enter any single word \n",
            "ineuron\n",
            "Word received is \n",
            " ineuron\n",
            "Reversed word is \n",
            " norueni\n"
          ],
          "name": "stdout"
        }
      ]
    }
  ]
}